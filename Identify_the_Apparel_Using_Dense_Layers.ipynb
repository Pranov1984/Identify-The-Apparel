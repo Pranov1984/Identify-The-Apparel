{
  "nbformat": 4,
  "nbformat_minor": 0,
  "metadata": {
    "colab": {
      "name": "Identify the Apparel Using Dense Layers.ipynb",
      "provenance": [],
      "collapsed_sections": [],
      "authorship_tag": "ABX9TyN1hQRXJQtx2YtB+hUIxDWJ",
      "include_colab_link": true
    },
    "kernelspec": {
      "name": "python3",
      "display_name": "Python 3"
    },
    "accelerator": "GPU"
  },
  "cells": [
    {
      "cell_type": "markdown",
      "metadata": {
        "id": "view-in-github",
        "colab_type": "text"
      },
      "source": [
        "<a href=\"https://colab.research.google.com/github/Pranov1984/Identify-The-Apparel/blob/master/Identify_the_Apparel_Using_Dense_Layers.ipynb\" target=\"_parent\"><img src=\"https://colab.research.google.com/assets/colab-badge.svg\" alt=\"Open In Colab\"/></a>"
      ]
    },
    {
      "cell_type": "code",
      "metadata": {
        "id": "W1qgw30FE7Vl",
        "colab_type": "code",
        "colab": {}
      },
      "source": [
        "# Setting the log level of tensorflow to ignore some warnings\n",
        "import os\n",
        "os.environ['TF_CPP_MIN_LOG_LEVEL'] = '3' \n",
        "import warnings\n",
        "# Suppress warnings\n",
        "warnings.filterwarnings('ignore')"
      ],
      "execution_count": 0,
      "outputs": []
    },
    {
      "cell_type": "code",
      "metadata": {
        "id": "aHaIxDv7FDJy",
        "colab_type": "code",
        "outputId": "929217f5-3476-4307-9a9e-5f8b741f4aed",
        "colab": {
          "base_uri": "https://localhost:8080/",
          "height": 35
        }
      },
      "source": [
        "from google.colab import drive\n",
        "drive.mount('/content/drive')"
      ],
      "execution_count": 0,
      "outputs": [
        {
          "output_type": "stream",
          "text": [
            "Drive already mounted at /content/drive; to attempt to forcibly remount, call drive.mount(\"/content/drive\", force_remount=True).\n"
          ],
          "name": "stdout"
        }
      ]
    },
    {
      "cell_type": "code",
      "metadata": {
        "id": "IJJFSKYvFU_q",
        "colab_type": "code",
        "colab": {}
      },
      "source": [
        "test_path = \"/content/drive/My Drive/Colab Notebooks/AV_DL/Project_April_Apparel/test.zip\"\n"
      ],
      "execution_count": 0,
      "outputs": []
    },
    {
      "cell_type": "code",
      "metadata": {
        "id": "7t42vrlvauBx",
        "colab_type": "code",
        "colab": {}
      },
      "source": [
        "from keras.datasets import fashion_mnist\n",
        "#https://machinelearningmastery.com/how-to-develop-a-cnn-from-scratch-for-fashion-mnist-clothing-classification/\n",
        "#https://github.com/nadia1123/fashion-mnist-keras/blob/master/Fashion%20MNIST%20in%20Keras%20using%20a%20Multilayer%20perceptron.ipynb"
      ],
      "execution_count": 0,
      "outputs": []
    },
    {
      "cell_type": "code",
      "metadata": {
        "id": "EJe3WU52awGm",
        "colab_type": "code",
        "outputId": "1935444a-726e-44a0-edb6-f08fff841095",
        "colab": {
          "base_uri": "https://localhost:8080/",
          "height": 88
        }
      },
      "source": [
        "(X_train, y_train), (X_test, y_test) = fashion_mnist.load_data()\n",
        "print(\"X_train original shape\", X_train.shape)\n",
        "print(\"y_train original shape\", y_train.shape)\n",
        "print(\"X_test original shape\", X_test.shape)\n",
        "print(\"y_test original shape\", y_test.shape)"
      ],
      "execution_count": 0,
      "outputs": [
        {
          "output_type": "stream",
          "text": [
            "X_train original shape (60000, 28, 28)\n",
            "y_train original shape (60000,)\n",
            "X_test original shape (10000, 28, 28)\n",
            "y_test original shape (10000,)\n"
          ],
          "name": "stdout"
        }
      ]
    },
    {
      "cell_type": "code",
      "metadata": {
        "id": "eSmB3g8jd99J",
        "colab_type": "code",
        "colab": {}
      },
      "source": [
        "import tensorflow.compat.v1 as tf\n",
        "tf.disable_v2_behavior()\n",
        "from keras.utils import to_categorical\n",
        "import matplotlib.pyplot as plt\n",
        "%matplotlib inline\n",
        "import seaborn as sns"
      ],
      "execution_count": 0,
      "outputs": []
    },
    {
      "cell_type": "code",
      "metadata": {
        "id": "R4fxXij9d-AF",
        "colab_type": "code",
        "outputId": "ca98d5cb-e966-4e03-9cd6-d56e62f0d178",
        "colab": {
          "base_uri": "https://localhost:8080/",
          "height": 266
        }
      },
      "source": [
        "# visualizing the data\n",
        "plt.imshow(X_train[0])\n",
        "plt.axis('off')"
      ],
      "execution_count": 0,
      "outputs": [
        {
          "output_type": "execute_result",
          "data": {
            "text/plain": [
              "(-0.5, 27.5, 27.5, -0.5)"
            ]
          },
          "metadata": {
            "tags": []
          },
          "execution_count": 88
        },
        {
          "output_type": "display_data",
          "data": {
            "image/png": "[encoded data removed]",
            "text/plain": [
              "<Figure size 432x288 with 1 Axes>"
            ]
          },
          "metadata": {
            "tags": []
          }
        }
      ]
    },
    {
      "cell_type": "code",
      "metadata": {
        "id": "oflwIaUvd-DS",
        "colab_type": "code",
        "outputId": "547fd588-7ee6-4de2-ef40-e92001cc11e4",
        "colab": {
          "base_uri": "https://localhost:8080/",
          "height": 264
        }
      },
      "source": [
        "plt.figure(figsize=(10,4))\n",
        "for i in range(10):\n",
        "  plt.subplot(2,5,i+1)\n",
        "  plt.imshow(X_train[i], cmap=\"gray\")\n",
        "  plt.axis('off')\n",
        "plt.show()\n",
        "\n",
        "print('label for each of the above image: %s' % (y_train[0:10]))"
      ],
      "execution_count": 0,
      "outputs": [
        {
          "output_type": "display_data",
          "data": {
            "image/png": "[encoded data removed]",
            "text/plain": [
              "<Figure size 720x288 with 10 Axes>"
            ]
          },
          "metadata": {
            "tags": []
          }
        },
        {
          "output_type": "stream",
          "text": [
            "label for each of the above image: [9 0 0 3 0 2 7 2 5 5]\n"
          ],
          "name": "stdout"
        }
      ]
    },
    {
      "cell_type": "code",
      "metadata": {
        "id": "y9u8hLD8d-GT",
        "colab_type": "code",
        "outputId": "6d88c59b-8c24-4b83-b6d6-ac25bb6003c1",
        "colab": {
          "base_uri": "https://localhost:8080/",
          "height": 299
        }
      },
      "source": [
        "class_labels_dict = {0:\"T-shirt/top\",1:\"Trouser\",2:\"Pullover\",3:\"Dress\",4:\"Coat\",5:\"Sandal\",6:\"Shirt\",7:\"Sneaker\",8:\"Bag\",9:\"Ankle boot\"}\n",
        "\n",
        "fig = plt.figure(figsize=(10,4))\n",
        "\n",
        "for i in range(10):\n",
        "    plt.subplot(2,5,i+1)\n",
        "    img = X_train[y_train == i][0]\n",
        "    plt.imshow(img, cmap='gray', interpolation='none')\n",
        "    plt.title(\"Class: {}\".format(class_labels_dict[i]))\n",
        "    plt.axis('off')\n",
        "    \n",
        "plt.tight_layout()"
      ],
      "execution_count": 0,
      "outputs": [
        {
          "output_type": "display_data",
          "data": {
            "image/png": "[encoded data removed]",
            "text/plain": [
              "<Figure size 720x288 with 10 Axes>"
            ]
          },
          "metadata": {
            "tags": []
          }
        }
      ]
    },
    {
      "cell_type": "code",
      "metadata": {
        "id": "-2uJLK4C0Jza",
        "colab_type": "code",
        "outputId": "a938d49d-c63b-4473-cdb4-f4bd0b523d66",
        "colab": {
          "base_uri": "https://localhost:8080/",
          "height": 35
        }
      },
      "source": [
        "y_test[0:10]"
      ],
      "execution_count": 0,
      "outputs": [
        {
          "output_type": "execute_result",
          "data": {
            "text/plain": [
              "array([9, 2, 1, 1, 6, 1, 4, 6, 5, 7], dtype=uint8)"
            ]
          },
          "metadata": {
            "tags": []
          },
          "execution_count": 7
        }
      ]
    },
    {
      "cell_type": "code",
      "metadata": {
        "id": "dQF-Bp-m0JoI",
        "colab_type": "code",
        "outputId": "7cd286ec-7277-4f14-9b11-8db188ea64ef",
        "colab": {
          "base_uri": "https://localhost:8080/",
          "height": 35
        }
      },
      "source": [
        "y_test.shape"
      ],
      "execution_count": 0,
      "outputs": [
        {
          "output_type": "execute_result",
          "data": {
            "text/plain": [
              "(10000,)"
            ]
          },
          "metadata": {
            "tags": []
          },
          "execution_count": 8
        }
      ]
    },
    {
      "cell_type": "code",
      "metadata": {
        "id": "NqBOIQ4k-Xg7",
        "colab_type": "code",
        "outputId": "35430bbc-5c78-4490-b852-8fd255980960",
        "colab": {
          "base_uri": "https://localhost:8080/",
          "height": 265
        }
      },
      "source": [
        "plt.figure(figsize=(10,4))\n",
        "for i in range(60):\n",
        "  plt.subplot(6,10,i+1)\n",
        "  plt.imshow(X_test[i], cmap=\"gray\")\n",
        "  plt.axis('off')\n",
        "plt.show()\n",
        "\n",
        "print('label for each of the above image: %s' % (y_test[0:10]))"
      ],
      "execution_count": 0,
      "outputs": [
        {
          "output_type": "display_data",
          "data": {
            "image/png": "[encoded data removed]",
            "text/plain": [
              "<Figure size 720x288 with 60 Axes>"
            ]
          },
          "metadata": {
            "tags": []
          }
        },
        {
          "output_type": "stream",
          "text": [
            "label for each of the above image: [9 2 1 1 6 1 4 6 5 7]\n"
          ],
          "name": "stdout"
        }
      ]
    },
    {
      "cell_type": "code",
      "metadata": {
        "id": "OaXSuTA70Ja9",
        "colab_type": "code",
        "colab": {}
      },
      "source": [
        ""
      ],
      "execution_count": 0,
      "outputs": []
    },
    {
      "cell_type": "code",
      "metadata": {
        "id": "Ja-q1m3Wd-Uq",
        "colab_type": "code",
        "colab": {}
      },
      "source": [
        "y_train=to_categorical(y_train)\n",
        "y_test=to_categorical(y_test)"
      ],
      "execution_count": 0,
      "outputs": []
    },
    {
      "cell_type": "code",
      "metadata": {
        "id": "lneT-56Xd-YJ",
        "colab_type": "code",
        "outputId": "aacc8214-e6bc-429d-ee3b-8276db362325",
        "colab": {
          "base_uri": "https://localhost:8080/",
          "height": 35
        }
      },
      "source": [
        "from sklearn.model_selection import train_test_split\n",
        "\n",
        "X_train, X_val, y_train, y_val = train_test_split(X_train,y_train, random_state=1, test_size=0.1)\n",
        "X_train, X_Test, y_train, y_Test = train_test_split(X_train,y_train, random_state=1, test_size=0.2)\n",
        "\n",
        "X_train.shape, X_Test.shape , X_val.shape,y_train.shape, y_Test.shape, y_val.shape"
      ],
      "execution_count": 0,
      "outputs": [
        {
          "output_type": "execute_result",
          "data": {
            "text/plain": [
              "((43200, 28, 28), (10800, 28, 28), (6000, 28, 28), (43200,), (10800,), (6000,))"
            ]
          },
          "metadata": {
            "tags": []
          },
          "execution_count": 90
        }
      ]
    },
    {
      "cell_type": "code",
      "metadata": {
        "id": "4XvUuH4A0w2I",
        "colab_type": "code",
        "colab": {}
      },
      "source": [
        "#Normalize the data\n",
        "X_train = X_train.astype('float32')\n",
        "X_train= X_train/255"
      ],
      "execution_count": 0,
      "outputs": []
    },
    {
      "cell_type": "code",
      "metadata": {
        "id": "RKmgJvdg0xF5",
        "colab_type": "code",
        "colab": {}
      },
      "source": [
        "X_val = X_val.astype('float32')\n",
        "X_val= X_val/255\n",
        "\n",
        "X_test = X_test.astype('float32')\n",
        "X_test= X_test/255\n",
        "\n",
        "X_Test = X_Test.astype('float32')\n",
        "X_Test= X_Test/255"
      ],
      "execution_count": 0,
      "outputs": []
    },
    {
      "cell_type": "code",
      "metadata": {
        "id": "tHUXO2bf1cVZ",
        "colab_type": "code",
        "colab": {}
      },
      "source": [
        "#Reshape/flatten the data\n",
        "# reshaping X data: (n, 28, 28) => (n, 784)\n",
        "X_train = X_train.reshape((X_train.shape[0], -1))\n",
        "X_test = X_test.reshape((X_test.shape[0], -1))\n",
        "X_Test = X_Test.reshape((X_Test.shape[0], -1))\n",
        "X_val = X_val.reshape((X_val.shape[0], -1))"
      ],
      "execution_count": 0,
      "outputs": []
    },
    {
      "cell_type": "code",
      "metadata": {
        "id": "Dgw2C-Hd31oC",
        "colab_type": "code",
        "outputId": "17629099-cf25-4a0a-84fd-fb5f786c155e",
        "colab": {
          "base_uri": "https://localhost:8080/",
          "height": 35
        }
      },
      "source": [
        "X_train.shape, X_Test.shape , X_val.shape,y_train.shape, y_Test.shape, y_val.shape"
      ],
      "execution_count": 0,
      "outputs": [
        {
          "output_type": "execute_result",
          "data": {
            "text/plain": [
              "((43200, 784), (10800, 784), (6000, 784), (43200, 10), (10800, 10), (6000, 10))"
            ]
          },
          "metadata": {
            "tags": []
          },
          "execution_count": 16
        }
      ]
    },
    {
      "cell_type": "markdown",
      "metadata": {
        "id": "A8S6dLCI0jXe",
        "colab_type": "text"
      },
      "source": [
        "Build a Dense Model"
      ]
    },
    {
      "cell_type": "code",
      "metadata": {
        "id": "vHq1N8eP0hBb",
        "colab_type": "code",
        "colab": {}
      },
      "source": [
        "from keras.models import Sequential\n",
        "from keras.layers import Conv2D, MaxPool2D, Dense, Flatten, Activation, Dropout, BatchNormalization\n",
        "from keras.optimizers import adam, rmsprop, sgd\n",
        "from keras.losses import categorical_crossentropy"
      ],
      "execution_count": 0,
      "outputs": []
    },
    {
      "cell_type": "code",
      "metadata": {
        "id": "iksO5-Z80hEP",
        "colab_type": "code",
        "outputId": "7883bf97-6638-47aa-8141-34e7ab176b51",
        "colab": {
          "base_uri": "https://localhost:8080/",
          "height": 187
        }
      },
      "source": [
        "model=Sequential()\n",
        "model.add(Dense(1024, input_shape=(784,), kernel_initializer='he_normal'))\n",
        "model.add(BatchNormalization())\n",
        "model.add(Activation('relu'))\n",
        "\n",
        "model=Sequential()\n",
        "model.add(Dense(512, kernel_initializer='he_normal', activation='relu'))\n",
        "model.add(Dropout(0.3))\n",
        "\n",
        "model=Sequential()\n",
        "model.add(Dense(256, kernel_initializer='he_normal', activation='relu'))\n",
        "model.add(Dropout(0.3))\n",
        "\n",
        "model=Sequential()\n",
        "model.add(Dense(10, activation='softmax'))\n",
        "\n",
        "opt=adam(lr=0.001)\n",
        "model.compile(optimizer=opt, loss='categorical_crossentropy', metrics=['accuracy'])"
      ],
      "execution_count": 0,
      "outputs": [
        {
          "output_type": "stream",
          "text": [
            "WARNING:tensorflow:From /usr/local/lib/python3.6/dist-packages/keras/backend/tensorflow_backend.py:66: The name tf.get_default_graph is deprecated. Please use tf.compat.v1.get_default_graph instead.\n",
            "\n",
            "WARNING:tensorflow:From /usr/local/lib/python3.6/dist-packages/keras/backend/tensorflow_backend.py:541: The name tf.placeholder is deprecated. Please use tf.compat.v1.placeholder instead.\n",
            "\n",
            "WARNING:tensorflow:From /usr/local/lib/python3.6/dist-packages/keras/backend/tensorflow_backend.py:4479: The name tf.truncated_normal is deprecated. Please use tf.random.truncated_normal instead.\n",
            "\n",
            "WARNING:tensorflow:From /usr/local/lib/python3.6/dist-packages/keras/backend/tensorflow_backend.py:148: The name tf.placeholder_with_default is deprecated. Please use tf.compat.v1.placeholder_with_default instead.\n",
            "\n",
            "WARNING:tensorflow:From /usr/local/lib/python3.6/dist-packages/keras/optimizers.py:793: The name tf.train.Optimizer is deprecated. Please use tf.compat.v1.train.Optimizer instead.\n",
            "\n"
          ],
          "name": "stdout"
        }
      ]
    },
    {
      "cell_type": "code",
      "metadata": {
        "id": "ZnjQ0WsN0hHi",
        "colab_type": "code",
        "outputId": "3194d594-5c84-4bc8-dd38-8eb5fa61f400",
        "colab": {
          "base_uri": "https://localhost:8080/",
          "height": 1000
        }
      },
      "source": [
        "history=model.fit(X_train,y_train, epochs=50, batch_size=512, validation_data=(X_Test, y_Test))"
      ],
      "execution_count": 0,
      "outputs": [
        {
          "output_type": "stream",
          "text": [
            "Train on 43200 samples, validate on 10800 samples\n",
            "Epoch 1/50\n",
            "43200/43200 [==============================] - 0s 10us/step - loss: 0.3512 - acc: 0.8776 - val_loss: 0.4245 - val_acc: 0.8544\n",
            "Epoch 2/50\n",
            "43200/43200 [==============================] - 0s 9us/step - loss: 0.3506 - acc: 0.8782 - val_loss: 0.4245 - val_acc: 0.8529\n",
            "Epoch 3/50\n",
            "43200/43200 [==============================] - 0s 8us/step - loss: 0.3506 - acc: 0.8773 - val_loss: 0.4239 - val_acc: 0.8522\n",
            "Epoch 4/50\n",
            "43200/43200 [==============================] - 0s 9us/step - loss: 0.3513 - acc: 0.8772 - val_loss: 0.4237 - val_acc: 0.8530\n",
            "Epoch 5/50\n",
            "43200/43200 [==============================] - 0s 8us/step - loss: 0.3507 - acc: 0.8775 - val_loss: 0.4269 - val_acc: 0.8532\n",
            "Epoch 6/50\n",
            "43200/43200 [==============================] - 0s 9us/step - loss: 0.3516 - acc: 0.8761 - val_loss: 0.4264 - val_acc: 0.8539\n",
            "Epoch 7/50\n",
            "43200/43200 [==============================] - 0s 10us/step - loss: 0.3490 - acc: 0.8775 - val_loss: 0.4277 - val_acc: 0.8544\n",
            "Epoch 8/50\n",
            "43200/43200 [==============================] - 0s 9us/step - loss: 0.3491 - acc: 0.8780 - val_loss: 0.4236 - val_acc: 0.8530\n",
            "Epoch 9/50\n",
            "43200/43200 [==============================] - 0s 9us/step - loss: 0.3492 - acc: 0.8781 - val_loss: 0.4231 - val_acc: 0.8536\n",
            "Epoch 10/50\n",
            "43200/43200 [==============================] - 0s 8us/step - loss: 0.3494 - acc: 0.8774 - val_loss: 0.4236 - val_acc: 0.8550\n",
            "Epoch 11/50\n",
            "43200/43200 [==============================] - 0s 8us/step - loss: 0.3480 - acc: 0.8779 - val_loss: 0.4237 - val_acc: 0.8551\n",
            "Epoch 12/50\n",
            "43200/43200 [==============================] - 0s 9us/step - loss: 0.3487 - acc: 0.8781 - val_loss: 0.4258 - val_acc: 0.8541\n",
            "Epoch 13/50\n",
            "43200/43200 [==============================] - 0s 8us/step - loss: 0.3484 - acc: 0.8772 - val_loss: 0.4256 - val_acc: 0.8544\n",
            "Epoch 14/50\n",
            "43200/43200 [==============================] - 0s 9us/step - loss: 0.3476 - acc: 0.8784 - val_loss: 0.4243 - val_acc: 0.8561\n",
            "Epoch 15/50\n",
            "43200/43200 [==============================] - 0s 8us/step - loss: 0.3471 - acc: 0.8790 - val_loss: 0.4241 - val_acc: 0.8543\n",
            "Epoch 16/50\n",
            "43200/43200 [==============================] - 0s 8us/step - loss: 0.3469 - acc: 0.8790 - val_loss: 0.4244 - val_acc: 0.8531\n",
            "Epoch 17/50\n",
            "43200/43200 [==============================] - 0s 9us/step - loss: 0.3474 - acc: 0.8794 - val_loss: 0.4239 - val_acc: 0.8531\n",
            "Epoch 18/50\n",
            "43200/43200 [==============================] - 0s 9us/step - loss: 0.3470 - acc: 0.8788 - val_loss: 0.4264 - val_acc: 0.8539\n",
            "Epoch 19/50\n",
            "43200/43200 [==============================] - 0s 9us/step - loss: 0.3458 - acc: 0.8790 - val_loss: 0.4241 - val_acc: 0.8545\n",
            "Epoch 20/50\n",
            "43200/43200 [==============================] - 0s 9us/step - loss: 0.3464 - acc: 0.8781 - val_loss: 0.4255 - val_acc: 0.8542\n",
            "Epoch 21/50\n",
            "43200/43200 [==============================] - 0s 8us/step - loss: 0.3460 - acc: 0.8789 - val_loss: 0.4240 - val_acc: 0.8546\n",
            "Epoch 22/50\n",
            "43200/43200 [==============================] - 0s 9us/step - loss: 0.3462 - acc: 0.8786 - val_loss: 0.4280 - val_acc: 0.8530\n",
            "Epoch 23/50\n",
            "43200/43200 [==============================] - 0s 9us/step - loss: 0.3454 - acc: 0.8783 - val_loss: 0.4255 - val_acc: 0.8530\n",
            "Epoch 24/50\n",
            "43200/43200 [==============================] - 0s 8us/step - loss: 0.3455 - acc: 0.8789 - val_loss: 0.4280 - val_acc: 0.8529\n",
            "Epoch 25/50\n",
            "43200/43200 [==============================] - 0s 8us/step - loss: 0.3457 - acc: 0.8788 - val_loss: 0.4251 - val_acc: 0.8525\n",
            "Epoch 26/50\n",
            "43200/43200 [==============================] - 0s 9us/step - loss: 0.3453 - acc: 0.8797 - val_loss: 0.4257 - val_acc: 0.8535\n",
            "Epoch 27/50\n",
            "43200/43200 [==============================] - 0s 8us/step - loss: 0.3455 - acc: 0.8794 - val_loss: 0.4279 - val_acc: 0.8531\n",
            "Epoch 28/50\n",
            "43200/43200 [==============================] - 0s 10us/step - loss: 0.3447 - acc: 0.8790 - val_loss: 0.4270 - val_acc: 0.8550\n",
            "Epoch 29/50\n",
            "43200/43200 [==============================] - 0s 8us/step - loss: 0.3445 - acc: 0.8790 - val_loss: 0.4317 - val_acc: 0.8518\n",
            "Epoch 30/50\n",
            "43200/43200 [==============================] - 0s 8us/step - loss: 0.3437 - acc: 0.8804 - val_loss: 0.4257 - val_acc: 0.8544\n",
            "Epoch 31/50\n",
            "43200/43200 [==============================] - 0s 8us/step - loss: 0.3442 - acc: 0.8784 - val_loss: 0.4245 - val_acc: 0.8544\n",
            "Epoch 32/50\n",
            "43200/43200 [==============================] - 0s 8us/step - loss: 0.3438 - acc: 0.8784 - val_loss: 0.4245 - val_acc: 0.8550\n",
            "Epoch 33/50\n",
            "43200/43200 [==============================] - 0s 8us/step - loss: 0.3434 - acc: 0.8793 - val_loss: 0.4265 - val_acc: 0.8538\n",
            "Epoch 34/50\n",
            "43200/43200 [==============================] - 0s 9us/step - loss: 0.3435 - acc: 0.8789 - val_loss: 0.4274 - val_acc: 0.8533\n",
            "Epoch 35/50\n",
            "43200/43200 [==============================] - 0s 9us/step - loss: 0.3433 - acc: 0.8789 - val_loss: 0.4248 - val_acc: 0.8541\n",
            "Epoch 36/50\n",
            "43200/43200 [==============================] - 0s 8us/step - loss: 0.3432 - acc: 0.8791 - val_loss: 0.4278 - val_acc: 0.8522\n",
            "Epoch 37/50\n",
            "43200/43200 [==============================] - 0s 8us/step - loss: 0.3444 - acc: 0.8785 - val_loss: 0.4262 - val_acc: 0.8540\n",
            "Epoch 38/50\n",
            "43200/43200 [==============================] - 0s 8us/step - loss: 0.3424 - acc: 0.8797 - val_loss: 0.4250 - val_acc: 0.8543\n",
            "Epoch 39/50\n",
            "43200/43200 [==============================] - 0s 8us/step - loss: 0.3428 - acc: 0.8792 - val_loss: 0.4300 - val_acc: 0.8527\n",
            "Epoch 40/50\n",
            "43200/43200 [==============================] - 0s 8us/step - loss: 0.3419 - acc: 0.8791 - val_loss: 0.4285 - val_acc: 0.8521\n",
            "Epoch 41/50\n",
            "43200/43200 [==============================] - 0s 9us/step - loss: 0.3418 - acc: 0.8796 - val_loss: 0.4266 - val_acc: 0.8539\n",
            "Epoch 42/50\n",
            "43200/43200 [==============================] - 0s 8us/step - loss: 0.3433 - acc: 0.8792 - val_loss: 0.4289 - val_acc: 0.8531\n",
            "Epoch 43/50\n",
            "43200/43200 [==============================] - 0s 8us/step - loss: 0.3423 - acc: 0.8797 - val_loss: 0.4274 - val_acc: 0.8533\n",
            "Epoch 44/50\n",
            "43200/43200 [==============================] - 0s 9us/step - loss: 0.3420 - acc: 0.8796 - val_loss: 0.4273 - val_acc: 0.8525\n",
            "Epoch 45/50\n",
            "43200/43200 [==============================] - 0s 10us/step - loss: 0.3412 - acc: 0.8800 - val_loss: 0.4264 - val_acc: 0.8540\n",
            "Epoch 46/50\n",
            "43200/43200 [==============================] - 0s 9us/step - loss: 0.3414 - acc: 0.8796 - val_loss: 0.4285 - val_acc: 0.8525\n",
            "Epoch 47/50\n",
            "43200/43200 [==============================] - 0s 9us/step - loss: 0.3408 - acc: 0.8796 - val_loss: 0.4337 - val_acc: 0.8505\n",
            "Epoch 48/50\n",
            "43200/43200 [==============================] - 0s 8us/step - loss: 0.3414 - acc: 0.8796 - val_loss: 0.4296 - val_acc: 0.8519\n",
            "Epoch 49/50\n",
            "43200/43200 [==============================] - 0s 9us/step - loss: 0.3418 - acc: 0.8800 - val_loss: 0.4267 - val_acc: 0.8524\n",
            "Epoch 50/50\n",
            "43200/43200 [==============================] - 0s 10us/step - loss: 0.3406 - acc: 0.8804 - val_loss: 0.4285 - val_acc: 0.8557\n"
          ],
          "name": "stdout"
        }
      ]
    },
    {
      "cell_type": "code",
      "metadata": {
        "id": "8zcJRD_w0hKh",
        "colab_type": "code",
        "outputId": "acdec682-c7fa-4f40-8c2e-129a99db7695",
        "colab": {
          "base_uri": "https://localhost:8080/",
          "height": 34
        }
      },
      "source": [
        "results=model.evaluate(X_val, y_val)"
      ],
      "execution_count": 0,
      "outputs": [
        {
          "output_type": "stream",
          "text": [
            "6000/6000 [==============================] - 0s 36us/step\n"
          ],
          "name": "stdout"
        }
      ]
    },
    {
      "cell_type": "code",
      "metadata": {
        "id": "onoAEter0hN2",
        "colab_type": "code",
        "outputId": "0e4bdd57-1e69-47ca-b457-97d87f4c4b41",
        "colab": {
          "base_uri": "https://localhost:8080/",
          "height": 34
        }
      },
      "source": [
        "print('Accuracy:',results[1])"
      ],
      "execution_count": 0,
      "outputs": [
        {
          "output_type": "stream",
          "text": [
            "Accuracy: 0.8546666666666667\n"
          ],
          "name": "stdout"
        }
      ]
    },
    {
      "cell_type": "code",
      "metadata": {
        "id": "mBEobcDU0hQc",
        "colab_type": "code",
        "outputId": "ec1b3dc5-ce4a-4220-a1c5-3a27da163152",
        "colab": {
          "base_uri": "https://localhost:8080/",
          "height": 351
        }
      },
      "source": [
        "epochs = range(1,51)\n",
        "plt.figure(figsize=(10,5))\n",
        "plt.subplot(1,2,1)\n",
        "plt.plot(epochs, history.history['val_loss'], 'b', label='Validation Loss')\n",
        "plt.plot(epochs, history.history['loss'], 'r', label='Training Loss')\n",
        "plt.xlabel('Epochs')\n",
        "plt.ylabel('Loss')\n",
        "plt.legend()\n",
        "\n",
        "plt.subplot(1,2,2)\n",
        "plt.plot(epochs, history.history['val_acc'], 'b', label='Validation Acc')\n",
        "plt.plot(epochs, history.history['acc'], 'r', label='Training Acc')\n",
        "plt.xlabel('Epochs')\n",
        "plt.ylabel('Loss')\n",
        "plt.legend()"
      ],
      "execution_count": 0,
      "outputs": [
        {
          "output_type": "execute_result",
          "data": {
            "text/plain": [
              "<matplotlib.legend.Legend at 0x7f563c56c780>"
            ]
          },
          "metadata": {
            "tags": []
          },
          "execution_count": 35
        },
        {
          "output_type": "display_data",
          "data": {
            "image/png": "[encoded data removed]",
            "text/plain": [
              "<Figure size 720x360 with 2 Axes>"
            ]
          },
          "metadata": {
            "tags": []
          }
        }
      ]
    },
    {
      "cell_type": "code",
      "metadata": {
        "id": "HNtBt52Hhriy",
        "colab_type": "code",
        "outputId": "c5d9a6b9-5e2c-4eee-8067-a13519a4511b",
        "colab": {
          "base_uri": "https://localhost:8080/",
          "height": 51
        }
      },
      "source": [
        "model.evaluate(X_test, y_test)[1]"
      ],
      "execution_count": 0,
      "outputs": [
        {
          "output_type": "stream",
          "text": [
            "10000/10000 [==============================] - 0s 34us/step\n"
          ],
          "name": "stdout"
        },
        {
          "output_type": "execute_result",
          "data": {
            "text/plain": [
              "0.8468"
            ]
          },
          "metadata": {
            "tags": []
          },
          "execution_count": 36
        }
      ]
    },
    {
      "cell_type": "code",
      "metadata": {
        "id": "ClfI3tFNCxvu",
        "colab_type": "code",
        "colab": {}
      },
      "source": [
        "#Check out a few of the outputs\n",
        "\n",
        "pred = model.predict_classes(X_test)"
      ],
      "execution_count": 0,
      "outputs": []
    },
    {
      "cell_type": "code",
      "metadata": {
        "id": "vuam_dKaDOPC",
        "colab_type": "code",
        "outputId": "adb5de64-e655-44fc-d091-2c8a1745c076",
        "colab": {
          "base_uri": "https://localhost:8080/",
          "height": 204
        }
      },
      "source": [
        "pred[0:10] , class_labels_dict"
      ],
      "execution_count": 0,
      "outputs": [
        {
          "output_type": "execute_result",
          "data": {
            "text/plain": [
              "(array([9, 2, 1, 1, 6, 1, 4, 6, 5, 7]),\n",
              " {0: 'T-shirt/top',\n",
              "  1: 'Trouser',\n",
              "  2: 'Pullover',\n",
              "  3: 'Dress',\n",
              "  4: 'Coat',\n",
              "  5: 'Sandal',\n",
              "  6: 'Shirt',\n",
              "  7: 'Sneaker',\n",
              "  8: 'Bag',\n",
              "  9: 'Ankle boot'})"
            ]
          },
          "metadata": {
            "tags": []
          },
          "execution_count": 61
        }
      ]
    },
    {
      "cell_type": "code",
      "metadata": {
        "id": "VJclWr2TDOb9",
        "colab_type": "code",
        "outputId": "589a3a91-c335-4641-80da-d25f75576236",
        "colab": {
          "base_uri": "https://localhost:8080/",
          "height": 265
        }
      },
      "source": [
        "(X_train, y_train), (X_test, y_test) = fashion_mnist.load_data()\n",
        "plt.imshow(X_test[6])\n",
        "plt.axis('off')"
      ],
      "execution_count": 0,
      "outputs": [
        {
          "output_type": "execute_result",
          "data": {
            "text/plain": [
              "(-0.5, 27.5, 27.5, -0.5)"
            ]
          },
          "metadata": {
            "tags": []
          },
          "execution_count": 69
        },
        {
          "output_type": "display_data",
          "data": {
            "image/png": "[encoded data removed]",
            "text/plain": [
              "<Figure size 432x288 with 1 Axes>"
            ]
          },
          "metadata": {
            "tags": []
          }
        }
      ]
    },
    {
      "cell_type": "code",
      "metadata": {
        "id": "p8-_GQvEHWQf",
        "colab_type": "code",
        "colab": {}
      },
      "source": [
        "import pandas as pd\n",
        "import numpy as np\n",
        "id=np.arange(60001,70001)\n",
        "label=pred\n",
        "\n",
        "Submission_array=np.array([id,label])\n",
        "Submission1=pd.DataFrame(Submission_array).T\n",
        "Submission1.rename(columns={0: 'id', 1: 'label'}, inplace=True)\n",
        "\n",
        "\n",
        "from google.colab import files\n",
        "Submission1.to_csv('Apparel_submit1.csv') \n",
        "files.download('Apparel_submit1.csv')"
      ],
      "execution_count": 0,
      "outputs": []
    },
    {
      "cell_type": "code",
      "metadata": {
        "id": "HqrCc-beCyFV",
        "colab_type": "code",
        "colab": {}
      },
      "source": [
        "root_dir = os.path.abspath('../..')\n",
        "data_dir = os.path.join(root_dir, 'data')\n",
        "sub_dir = os.path.join(root_dir, 'sub')\n",
        "# check for existence\n",
        "os.path.exists(root_dir)\n",
        "os.path.exists(data_dir)\n",
        "os.path.exists(sub_dir)"
      ],
      "execution_count": 0,
      "outputs": []
    },
    {
      "cell_type": "markdown",
      "metadata": {
        "id": "yEprpWtM60Wd",
        "colab_type": "text"
      },
      "source": [
        "Add another dense layer"
      ]
    },
    {
      "cell_type": "code",
      "metadata": {
        "id": "ucxPFrcd6y4z",
        "colab_type": "code",
        "outputId": "39ca4b13-2249-4fe3-ddbf-4b7f74dd7672",
        "colab": {
          "base_uri": "https://localhost:8080/",
          "height": 1000
        }
      },
      "source": [
        "model=Sequential()\n",
        "model.add(Dense(1024, input_shape=(784,), kernel_initializer='he_normal'))\n",
        "model.add(BatchNormalization())\n",
        "model.add(Activation('relu'))\n",
        "\n",
        "model=Sequential()\n",
        "model.add(Dense(1024, kernel_initializer='he_normal', activation='relu'))\n",
        "model.add(Dropout(0.3))\n",
        "\n",
        "model=Sequential()\n",
        "model.add(Dense(512, kernel_initializer='he_normal', activation='relu'))\n",
        "model.add(Dropout(0.3))\n",
        "\n",
        "model=Sequential()\n",
        "model.add(Dense(128, kernel_initializer='he_normal', activation='relu'))\n",
        "model.add(Dropout(0.3))\n",
        "\n",
        "model=Sequential()\n",
        "model.add(Dense(10, activation='softmax'))\n",
        "\n",
        "opt=adam(lr=0.001)\n",
        "model.compile(optimizer=opt, loss='categorical_crossentropy', metrics=['accuracy'])\n",
        "\n",
        "history=model.fit(X_train,y_train, epochs=100, batch_size=512, validation_data=(X_Test, y_Test))"
      ],
      "execution_count": 0,
      "outputs": [
        {
          "output_type": "stream",
          "text": [
            "Train on 43200 samples, validate on 10800 samples\n",
            "Epoch 1/100\n",
            "43200/43200 [==============================] - 1s 14us/step - loss: 1.1668 - acc: 0.6235 - val_loss: 0.7909 - val_acc: 0.7381\n",
            "Epoch 2/100\n",
            "43200/43200 [==============================] - 0s 8us/step - loss: 0.7034 - acc: 0.7693 - val_loss: 0.6644 - val_acc: 0.7859\n",
            "Epoch 3/100\n",
            "43200/43200 [==============================] - 0s 9us/step - loss: 0.6130 - acc: 0.7999 - val_loss: 0.6040 - val_acc: 0.8060\n",
            "Epoch 4/100\n",
            "43200/43200 [==============================] - 0s 9us/step - loss: 0.5660 - acc: 0.8137 - val_loss: 0.5698 - val_acc: 0.8135\n",
            "Epoch 5/100\n",
            "43200/43200 [==============================] - 0s 8us/step - loss: 0.5343 - acc: 0.8228 - val_loss: 0.5458 - val_acc: 0.8198\n",
            "Epoch 6/100\n",
            "43200/43200 [==============================] - 0s 9us/step - loss: 0.5139 - acc: 0.8288 - val_loss: 0.5292 - val_acc: 0.8249\n",
            "Epoch 7/100\n",
            "43200/43200 [==============================] - 0s 9us/step - loss: 0.4980 - acc: 0.8343 - val_loss: 0.5180 - val_acc: 0.8290\n",
            "Epoch 8/100\n",
            "43200/43200 [==============================] - 0s 8us/step - loss: 0.4850 - acc: 0.8373 - val_loss: 0.5045 - val_acc: 0.8319\n",
            "Epoch 9/100\n",
            "43200/43200 [==============================] - 0s 9us/step - loss: 0.4739 - acc: 0.8402 - val_loss: 0.4964 - val_acc: 0.8346\n",
            "Epoch 10/100\n",
            "43200/43200 [==============================] - 0s 9us/step - loss: 0.4649 - acc: 0.8445 - val_loss: 0.4881 - val_acc: 0.8375\n",
            "Epoch 11/100\n",
            "43200/43200 [==============================] - 0s 8us/step - loss: 0.4573 - acc: 0.8461 - val_loss: 0.4814 - val_acc: 0.8405\n",
            "Epoch 12/100\n",
            "43200/43200 [==============================] - 0s 9us/step - loss: 0.4507 - acc: 0.8487 - val_loss: 0.4780 - val_acc: 0.8397\n",
            "Epoch 13/100\n",
            "43200/43200 [==============================] - 0s 8us/step - loss: 0.4456 - acc: 0.8498 - val_loss: 0.4720 - val_acc: 0.8422\n",
            "Epoch 14/100\n",
            "43200/43200 [==============================] - 0s 8us/step - loss: 0.4404 - acc: 0.8509 - val_loss: 0.4689 - val_acc: 0.8428\n",
            "Epoch 15/100\n",
            "43200/43200 [==============================] - 0s 8us/step - loss: 0.4353 - acc: 0.8522 - val_loss: 0.4627 - val_acc: 0.8464\n",
            "Epoch 16/100\n",
            "43200/43200 [==============================] - 0s 8us/step - loss: 0.4317 - acc: 0.8532 - val_loss: 0.4657 - val_acc: 0.8444\n",
            "Epoch 17/100\n",
            "43200/43200 [==============================] - 0s 8us/step - loss: 0.4287 - acc: 0.8541 - val_loss: 0.4601 - val_acc: 0.8450\n",
            "Epoch 18/100\n",
            "43200/43200 [==============================] - 0s 9us/step - loss: 0.4240 - acc: 0.8562 - val_loss: 0.4559 - val_acc: 0.8470\n",
            "Epoch 19/100\n",
            "43200/43200 [==============================] - 0s 8us/step - loss: 0.4214 - acc: 0.8572 - val_loss: 0.4565 - val_acc: 0.8471\n",
            "Epoch 20/100\n",
            "43200/43200 [==============================] - 0s 8us/step - loss: 0.4180 - acc: 0.8584 - val_loss: 0.4512 - val_acc: 0.8477\n",
            "Epoch 21/100\n",
            "43200/43200 [==============================] - 0s 9us/step - loss: 0.4166 - acc: 0.8581 - val_loss: 0.4503 - val_acc: 0.8484\n",
            "Epoch 22/100\n",
            "43200/43200 [==============================] - 0s 8us/step - loss: 0.4129 - acc: 0.8595 - val_loss: 0.4476 - val_acc: 0.8491\n",
            "Epoch 23/100\n",
            "43200/43200 [==============================] - 0s 10us/step - loss: 0.4102 - acc: 0.8602 - val_loss: 0.4489 - val_acc: 0.8481\n",
            "Epoch 24/100\n",
            "43200/43200 [==============================] - 0s 10us/step - loss: 0.4081 - acc: 0.8610 - val_loss: 0.4451 - val_acc: 0.8493\n",
            "Epoch 25/100\n",
            "43200/43200 [==============================] - 0s 10us/step - loss: 0.4055 - acc: 0.8621 - val_loss: 0.4442 - val_acc: 0.8495\n",
            "Epoch 26/100\n",
            "43200/43200 [==============================] - 0s 9us/step - loss: 0.4031 - acc: 0.8619 - val_loss: 0.4417 - val_acc: 0.8510\n",
            "Epoch 27/100\n",
            "43200/43200 [==============================] - 0s 9us/step - loss: 0.4012 - acc: 0.8632 - val_loss: 0.4398 - val_acc: 0.8503\n",
            "Epoch 28/100\n",
            "43200/43200 [==============================] - 0s 9us/step - loss: 0.4015 - acc: 0.8630 - val_loss: 0.4415 - val_acc: 0.8504\n",
            "Epoch 29/100\n",
            "43200/43200 [==============================] - 0s 8us/step - loss: 0.3990 - acc: 0.8633 - val_loss: 0.4471 - val_acc: 0.8469\n",
            "Epoch 30/100\n",
            "43200/43200 [==============================] - 0s 9us/step - loss: 0.3967 - acc: 0.8643 - val_loss: 0.4362 - val_acc: 0.8525\n",
            "Epoch 31/100\n",
            "43200/43200 [==============================] - 0s 9us/step - loss: 0.3943 - acc: 0.8657 - val_loss: 0.4344 - val_acc: 0.8530\n",
            "Epoch 32/100\n",
            "43200/43200 [==============================] - 0s 8us/step - loss: 0.3930 - acc: 0.8654 - val_loss: 0.4346 - val_acc: 0.8529\n",
            "Epoch 33/100\n",
            "43200/43200 [==============================] - 0s 8us/step - loss: 0.3926 - acc: 0.8645 - val_loss: 0.4361 - val_acc: 0.8518\n",
            "Epoch 34/100\n",
            "43200/43200 [==============================] - 0s 10us/step - loss: 0.3914 - acc: 0.8650 - val_loss: 0.4325 - val_acc: 0.8534\n",
            "Epoch 35/100\n",
            "43200/43200 [==============================] - 0s 9us/step - loss: 0.3890 - acc: 0.8664 - val_loss: 0.4361 - val_acc: 0.8505\n",
            "Epoch 36/100\n",
            "43200/43200 [==============================] - 0s 9us/step - loss: 0.3878 - acc: 0.8666 - val_loss: 0.4314 - val_acc: 0.8537\n",
            "Epoch 37/100\n",
            "43200/43200 [==============================] - 0s 9us/step - loss: 0.3867 - acc: 0.8665 - val_loss: 0.4333 - val_acc: 0.8508\n",
            "Epoch 38/100\n",
            "43200/43200 [==============================] - 0s 9us/step - loss: 0.3862 - acc: 0.8664 - val_loss: 0.4363 - val_acc: 0.8522\n",
            "Epoch 39/100\n",
            "43200/43200 [==============================] - 0s 9us/step - loss: 0.3862 - acc: 0.8667 - val_loss: 0.4329 - val_acc: 0.8523\n",
            "Epoch 40/100\n",
            "43200/43200 [==============================] - 0s 8us/step - loss: 0.3838 - acc: 0.8677 - val_loss: 0.4314 - val_acc: 0.8520\n",
            "Epoch 41/100\n",
            "43200/43200 [==============================] - 0s 8us/step - loss: 0.3826 - acc: 0.8683 - val_loss: 0.4315 - val_acc: 0.8522\n",
            "Epoch 42/100\n",
            "43200/43200 [==============================] - 0s 9us/step - loss: 0.3817 - acc: 0.8687 - val_loss: 0.4303 - val_acc: 0.8540\n",
            "Epoch 43/100\n",
            "43200/43200 [==============================] - 0s 9us/step - loss: 0.3806 - acc: 0.8683 - val_loss: 0.4277 - val_acc: 0.8527\n",
            "Epoch 44/100\n",
            "43200/43200 [==============================] - 0s 9us/step - loss: 0.3795 - acc: 0.8684 - val_loss: 0.4277 - val_acc: 0.8541\n",
            "Epoch 45/100\n",
            "43200/43200 [==============================] - 0s 9us/step - loss: 0.3795 - acc: 0.8687 - val_loss: 0.4285 - val_acc: 0.8527\n",
            "Epoch 46/100\n",
            "43200/43200 [==============================] - 0s 9us/step - loss: 0.3783 - acc: 0.8699 - val_loss: 0.4272 - val_acc: 0.8534\n",
            "Epoch 47/100\n",
            "43200/43200 [==============================] - 0s 9us/step - loss: 0.3775 - acc: 0.8697 - val_loss: 0.4283 - val_acc: 0.8532\n",
            "Epoch 48/100\n",
            "43200/43200 [==============================] - 0s 9us/step - loss: 0.3760 - acc: 0.8703 - val_loss: 0.4288 - val_acc: 0.8542\n",
            "Epoch 49/100\n",
            "43200/43200 [==============================] - 0s 9us/step - loss: 0.3751 - acc: 0.8706 - val_loss: 0.4277 - val_acc: 0.8527\n",
            "Epoch 50/100\n",
            "43200/43200 [==============================] - 0s 9us/step - loss: 0.3744 - acc: 0.8703 - val_loss: 0.4270 - val_acc: 0.8538\n",
            "Epoch 51/100\n",
            "43200/43200 [==============================] - 0s 10us/step - loss: 0.3736 - acc: 0.8702 - val_loss: 0.4277 - val_acc: 0.8546\n",
            "Epoch 52/100\n",
            "43200/43200 [==============================] - 0s 9us/step - loss: 0.3733 - acc: 0.8709 - val_loss: 0.4262 - val_acc: 0.8552\n",
            "Epoch 53/100\n",
            "43200/43200 [==============================] - 0s 9us/step - loss: 0.3727 - acc: 0.8700 - val_loss: 0.4245 - val_acc: 0.8544\n",
            "Epoch 54/100\n",
            "43200/43200 [==============================] - 0s 9us/step - loss: 0.3715 - acc: 0.8705 - val_loss: 0.4259 - val_acc: 0.8556\n",
            "Epoch 55/100\n",
            "43200/43200 [==============================] - 0s 9us/step - loss: 0.3716 - acc: 0.8707 - val_loss: 0.4272 - val_acc: 0.8536\n",
            "Epoch 56/100\n",
            "43200/43200 [==============================] - 0s 9us/step - loss: 0.3704 - acc: 0.8719 - val_loss: 0.4255 - val_acc: 0.8548\n",
            "Epoch 57/100\n",
            "43200/43200 [==============================] - 0s 9us/step - loss: 0.3689 - acc: 0.8716 - val_loss: 0.4275 - val_acc: 0.8518\n",
            "Epoch 58/100\n",
            "43200/43200 [==============================] - 0s 8us/step - loss: 0.3693 - acc: 0.8716 - val_loss: 0.4223 - val_acc: 0.8547\n",
            "Epoch 59/100\n",
            "43200/43200 [==============================] - 0s 8us/step - loss: 0.3683 - acc: 0.8720 - val_loss: 0.4257 - val_acc: 0.8548\n",
            "Epoch 60/100\n",
            "43200/43200 [==============================] - 0s 9us/step - loss: 0.3685 - acc: 0.8716 - val_loss: 0.4237 - val_acc: 0.8534\n",
            "Epoch 61/100\n",
            "43200/43200 [==============================] - 0s 9us/step - loss: 0.3675 - acc: 0.8720 - val_loss: 0.4241 - val_acc: 0.8549\n",
            "Epoch 62/100\n",
            "43200/43200 [==============================] - 0s 8us/step - loss: 0.3674 - acc: 0.8722 - val_loss: 0.4230 - val_acc: 0.8547\n",
            "Epoch 63/100\n",
            "43200/43200 [==============================] - 0s 9us/step - loss: 0.3663 - acc: 0.8735 - val_loss: 0.4271 - val_acc: 0.8531\n",
            "Epoch 64/100\n",
            "43200/43200 [==============================] - 0s 8us/step - loss: 0.3670 - acc: 0.8712 - val_loss: 0.4243 - val_acc: 0.8546\n",
            "Epoch 65/100\n",
            "43200/43200 [==============================] - 0s 9us/step - loss: 0.3647 - acc: 0.8737 - val_loss: 0.4238 - val_acc: 0.8550\n",
            "Epoch 66/100\n",
            "43200/43200 [==============================] - 0s 8us/step - loss: 0.3660 - acc: 0.8736 - val_loss: 0.4246 - val_acc: 0.8539\n",
            "Epoch 67/100\n",
            "43200/43200 [==============================] - 0s 9us/step - loss: 0.3644 - acc: 0.8735 - val_loss: 0.4275 - val_acc: 0.8530\n",
            "Epoch 68/100\n",
            "43200/43200 [==============================] - 0s 8us/step - loss: 0.3634 - acc: 0.8736 - val_loss: 0.4233 - val_acc: 0.8531\n",
            "Epoch 69/100\n",
            "43200/43200 [==============================] - 0s 8us/step - loss: 0.3633 - acc: 0.8730 - val_loss: 0.4236 - val_acc: 0.8538\n",
            "Epoch 70/100\n",
            "43200/43200 [==============================] - 0s 8us/step - loss: 0.3624 - acc: 0.8739 - val_loss: 0.4229 - val_acc: 0.8543\n",
            "Epoch 71/100\n",
            "43200/43200 [==============================] - 0s 8us/step - loss: 0.3615 - acc: 0.8736 - val_loss: 0.4245 - val_acc: 0.8542\n",
            "Epoch 72/100\n",
            "43200/43200 [==============================] - 0s 9us/step - loss: 0.3617 - acc: 0.8742 - val_loss: 0.4228 - val_acc: 0.8544\n",
            "Epoch 73/100\n",
            "43200/43200 [==============================] - 0s 9us/step - loss: 0.3607 - acc: 0.8745 - val_loss: 0.4253 - val_acc: 0.8534\n",
            "Epoch 74/100\n",
            "43200/43200 [==============================] - 0s 9us/step - loss: 0.3610 - acc: 0.8742 - val_loss: 0.4226 - val_acc: 0.8544\n",
            "Epoch 75/100\n",
            "43200/43200 [==============================] - 0s 8us/step - loss: 0.3609 - acc: 0.8745 - val_loss: 0.4243 - val_acc: 0.8543\n",
            "Epoch 76/100\n",
            "43200/43200 [==============================] - 0s 9us/step - loss: 0.3600 - acc: 0.8741 - val_loss: 0.4232 - val_acc: 0.8517\n",
            "Epoch 77/100\n",
            "43200/43200 [==============================] - 0s 9us/step - loss: 0.3606 - acc: 0.8730 - val_loss: 0.4223 - val_acc: 0.8527\n",
            "Epoch 78/100\n",
            "43200/43200 [==============================] - 0s 8us/step - loss: 0.3590 - acc: 0.8745 - val_loss: 0.4233 - val_acc: 0.8538\n",
            "Epoch 79/100\n",
            "43200/43200 [==============================] - 0s 9us/step - loss: 0.3585 - acc: 0.8756 - val_loss: 0.4263 - val_acc: 0.8535\n",
            "Epoch 80/100\n",
            "43200/43200 [==============================] - 0s 8us/step - loss: 0.3581 - acc: 0.8750 - val_loss: 0.4234 - val_acc: 0.8536\n",
            "Epoch 81/100\n",
            "43200/43200 [==============================] - 0s 9us/step - loss: 0.3577 - acc: 0.8756 - val_loss: 0.4252 - val_acc: 0.8531\n",
            "Epoch 82/100\n",
            "43200/43200 [==============================] - 0s 9us/step - loss: 0.3570 - acc: 0.8755 - val_loss: 0.4222 - val_acc: 0.8538\n",
            "Epoch 83/100\n",
            "43200/43200 [==============================] - 0s 8us/step - loss: 0.3569 - acc: 0.8762 - val_loss: 0.4210 - val_acc: 0.8544\n",
            "Epoch 84/100\n",
            "43200/43200 [==============================] - 0s 9us/step - loss: 0.3567 - acc: 0.8741 - val_loss: 0.4235 - val_acc: 0.8539\n",
            "Epoch 85/100\n",
            "43200/43200 [==============================] - 0s 8us/step - loss: 0.3558 - acc: 0.8755 - val_loss: 0.4284 - val_acc: 0.8543\n",
            "Epoch 86/100\n",
            "43200/43200 [==============================] - 0s 8us/step - loss: 0.3566 - acc: 0.8751 - val_loss: 0.4232 - val_acc: 0.8531\n",
            "Epoch 87/100\n",
            "43200/43200 [==============================] - 0s 9us/step - loss: 0.3558 - acc: 0.8762 - val_loss: 0.4245 - val_acc: 0.8527\n",
            "Epoch 88/100\n",
            "43200/43200 [==============================] - 0s 8us/step - loss: 0.3551 - acc: 0.8759 - val_loss: 0.4228 - val_acc: 0.8528\n",
            "Epoch 89/100\n",
            "43200/43200 [==============================] - 0s 8us/step - loss: 0.3555 - acc: 0.8746 - val_loss: 0.4235 - val_acc: 0.8549\n",
            "Epoch 90/100\n",
            "43200/43200 [==============================] - 0s 9us/step - loss: 0.3546 - acc: 0.8756 - val_loss: 0.4273 - val_acc: 0.8534\n",
            "Epoch 91/100\n",
            "43200/43200 [==============================] - 0s 8us/step - loss: 0.3557 - acc: 0.8747 - val_loss: 0.4217 - val_acc: 0.8539\n",
            "Epoch 92/100\n",
            "43200/43200 [==============================] - 0s 8us/step - loss: 0.3539 - acc: 0.8760 - val_loss: 0.4226 - val_acc: 0.8539\n",
            "Epoch 93/100\n",
            "43200/43200 [==============================] - 0s 9us/step - loss: 0.3530 - acc: 0.8765 - val_loss: 0.4246 - val_acc: 0.8533\n",
            "Epoch 94/100\n",
            "43200/43200 [==============================] - 0s 8us/step - loss: 0.3525 - acc: 0.8763 - val_loss: 0.4224 - val_acc: 0.8541\n",
            "Epoch 95/100\n",
            "43200/43200 [==============================] - 0s 9us/step - loss: 0.3528 - acc: 0.8771 - val_loss: 0.4229 - val_acc: 0.8536\n",
            "Epoch 96/100\n",
            "43200/43200 [==============================] - 0s 10us/step - loss: 0.3531 - acc: 0.8758 - val_loss: 0.4268 - val_acc: 0.8524\n",
            "Epoch 97/100\n",
            "43200/43200 [==============================] - 0s 10us/step - loss: 0.3515 - acc: 0.8766 - val_loss: 0.4274 - val_acc: 0.8521\n",
            "Epoch 98/100\n",
            "43200/43200 [==============================] - 0s 9us/step - loss: 0.3521 - acc: 0.8769 - val_loss: 0.4259 - val_acc: 0.8510\n",
            "Epoch 99/100\n",
            "43200/43200 [==============================] - 0s 9us/step - loss: 0.3520 - acc: 0.8766 - val_loss: 0.4230 - val_acc: 0.8534\n",
            "Epoch 100/100\n",
            "43200/43200 [==============================] - 0s 9us/step - loss: 0.3513 - acc: 0.8766 - val_loss: 0.4255 - val_acc: 0.8540\n"
          ],
          "name": "stdout"
        }
      ]
    },
    {
      "cell_type": "code",
      "metadata": {
        "id": "RCsWInUr6y8G",
        "colab_type": "code",
        "outputId": "403e77c7-65c6-473a-9487-2cdfbcebc00f",
        "colab": {
          "base_uri": "https://localhost:8080/",
          "height": 52
        }
      },
      "source": [
        "results=model.evaluate(X_val, y_val)\n",
        "results[1]"
      ],
      "execution_count": 0,
      "outputs": [
        {
          "output_type": "stream",
          "text": [
            "6000/6000 [==============================] - 0s 38us/step\n"
          ],
          "name": "stdout"
        },
        {
          "output_type": "execute_result",
          "data": {
            "text/plain": [
              "0.8571666666666666"
            ]
          },
          "metadata": {
            "tags": []
          },
          "execution_count": 25
        }
      ]
    },
    {
      "cell_type": "code",
      "metadata": {
        "id": "uMl4oE4A4p-F",
        "colab_type": "code",
        "colab": {}
      },
      "source": [
        ""
      ],
      "execution_count": 0,
      "outputs": []
    },
    {
      "cell_type": "code",
      "metadata": {
        "id": "loD6Hkoe7aFN",
        "colab_type": "code",
        "colab": {}
      },
      "source": [
        "pred = model.predict_classes(X_test)\n",
        "import pandas as pd\n",
        "import numpy as np\n",
        "id=np.arange(60001,70001)\n",
        "label=pred\n",
        "\n",
        "Submission_array=np.array([id,label])\n",
        "Submission=pd.DataFrame(Submission_array).T\n",
        "Submission.rename(columns={0: 'id', 1: 'label'}, inplace=True)\n",
        "\n",
        "\n",
        "from google.colab import files\n",
        "Submission.to_csv('Apparel_submit2.csv') \n",
        "files.download('Apparel_submit2.csv')"
      ],
      "execution_count": 0,
      "outputs": []
    },
    {
      "cell_type": "markdown",
      "metadata": {
        "id": "X3lZBQa13quW",
        "colab_type": "text"
      },
      "source": [
        "# No major change. Try Conv Layer"
      ]
    }
  ]
}